{
 "cells": [
  {
   "cell_type": "code",
   "execution_count": 2,
   "metadata": {
    "collapsed": false
   },
   "outputs": [
    {
     "name": "stdout",
     "output_type": "stream",
     "text": [
      "全模式： 中文/ 分词/ 是/ 文本/ 文本处理/ 本处/ 处理/ 不可/ 不可或缺/ 或缺/ 的/ 一步/ / \n",
      "精确模式： 中文/ 分词/ 是/ 文本处理/ 不可或缺/ 的/ 一步/ ！\n",
      "默认精确模式： 中文/ 分词/ 是/ 文本处理/ 不可或缺/ 的/ 一步/ ！\n",
      "搜索引擎模式 中文/ 分词/ 是/ 文本/ 本处/ 处理/ 文本处理/ 不可/ 或缺/ 不可或缺/ 的/ 一步/ ！\n"
     ]
    }
   ],
   "source": [
    "import jieba\n",
    "\n",
    "sent = '中文分词是文本处理不可或缺的一步！'\n",
    "\n",
    "seg_list = jieba.cut(sent, cut_all=True)\n",
    "\n",
    "print('全模式：', '/ ' .join(seg_list)) \n",
    "\n",
    "seg_list = jieba.cut(sent, cut_all=False)\n",
    "print('精确模式：', '/ '.join(seg_list)) \n",
    "\n",
    "seg_list = jieba.cut(sent)  \n",
    "print('默认精确模式：', '/ '.join(seg_list))\n",
    "\n",
    "seg_list = jieba.cut_for_search(sent)  \n",
    "print('搜索引擎模式', '/ '.join(seg_list))"
   ]
  },
  {
   "cell_type": "code",
   "execution_count": 8,
   "metadata": {
    "collapsed": false
   },
   "outputs": [
    {
     "name": "stdout",
     "output_type": "stream",
     "text": [
      "中文/nz 分词/n 是/v 文本处理/n 不可或缺/l 的/uj 一步/m ！/x\n"
     ]
    }
   ],
   "source": [
    "import jieba.posseg as psg\n",
    "\n",
    "sent = '中文分词是文本处理不可或缺的一步！'\n",
    "\n",
    "seg_list = psg.cut(sent)\n",
    "\n",
    "print(' '.join(['{0}/{1}'.format(w, t) for w, t in seg_list]))"
   ]
  },
  {
   "cell_type": "code",
   "execution_count": 1,
   "metadata": {
    "collapsed": false
   },
   "outputs": [
    {
     "name": "stderr",
     "output_type": "stream",
     "text": [
      "Building prefix dict from /Users/lx/Documents/book/code/chapter2/data/dict.txt.big ...\n",
      "Loading model from cache /var/folders/5d/hz_f9tvs0t37skhfcqsbspw00000gn/T/jieba.ue6ba5e3027eff0fb7a5ab8c354ddaecf.cache\n"
     ]
    },
    {
     "name": "stdout",
     "output_type": "stream",
     "text": [
      "自定义词典内容：\n",
      "大波浪 10\n",
      "\n",
      "jieba分词 n\n",
      "\n",
      "金融词典 7  \n",
      "\n",
      "------华丽的分割线-------\n"
     ]
    },
    {
     "name": "stderr",
     "output_type": "stream",
     "text": [
      "Loading model cost 1.512 seconds.\n",
      "Prefix dict has been built succesfully.\n"
     ]
    },
    {
     "name": "stdout",
     "output_type": "stream",
     "text": [
      "加载词典前: jieba/ 分词/ 非常/ 好用/ ，/ 可以/ 自定义/ 金融/ 词典/ ！\n",
      "加载词典后: jieba分词/ 非常/ 好用/ ，/ 可以/ 自定义/ 金融词典/ ！\n"
     ]
    }
   ],
   "source": [
    "import jieba \n",
    "#加载系统词典\n",
    "jieba.set_dictionary('./data/dict.txt.big')\n",
    "\n",
    "print('自定义词典内容：')\n",
    "with open('./data/user_dict.utf8', 'r') as f:\n",
    "    for l in f:\n",
    "        print(l)\n",
    "\n",
    "print('------华丽的分割线-------')\n",
    "sent = 'jieba分词非常好用，可以自定义金融词典！'\n",
    "seg_list = jieba.cut(sent)\n",
    "print('加载词典前:', '/ '.join(seg_list))\n",
    "\n",
    "jieba.load_userdict('./data/user_dict.utf8')\n",
    "seg_list = jieba.cut(sent)\n",
    "print('加载词典后:', '/ '.join(seg_list))"
   ]
  },
  {
   "cell_type": "code",
   "execution_count": 2,
   "metadata": {
    "collapsed": false
   },
   "outputs": [
    {
     "name": "stdout",
     "output_type": "stream",
     "text": [
      "好丑/ 的/ 证件/ 照片\n",
      "好丑/ 的/ 证件照片\n"
     ]
    }
   ],
   "source": [
    "import jieba\n",
    "sent = '好丑的证件照片'\n",
    "print('/ '.join(jieba.cut(sent, HMM=False)))\n",
    "\n",
    "jieba.suggest_freq(('证件照片'), True)\n",
    "print('/ '.join(jieba.cut(sent, HMM=False)))"
   ]
  },
  {
   "cell_type": "code",
   "execution_count": 22,
   "metadata": {
    "collapsed": false
   },
   "outputs": [
    {
     "name": "stdout",
     "output_type": "stream",
     "text": [
      "自然语言 2.0790900005043476\n",
      "NLP 0.5197725001260869\n",
      "计算机 0.5197725001260869\n",
      "领域 0.5197725001260869\n",
      "人机交互 0.5197725001260869\n",
      "挑战 0.5197725001260869\n",
      "理解 0.5197725001260869\n",
      "处理 0.4705091875965217\n",
      "涉及 0.3839134341652174\n",
      "人工智能 0.25988625006304344\n"
     ]
    }
   ],
   "source": [
    "import jieba.analyse as aly\n",
    "\n",
    "content = '''\n",
    "自然语言处理（NLP）是计算机科学，人工智能，语言学关注计算机和人类（自然）语言之间的相互作用的领域。\n",
    "因此，自然语言处理是与人机交互的领域有关的。在自然语言处理面临很多挑战，包括自然语言理解，因此，自然语言处理涉及人机交互的面积。\n",
    "在NLP诸多挑战涉及自然语言理解，即计算机源于人为或自然语言输入的意思，和其他涉及到自然语言生成。\n",
    "'''\n",
    "\n",
    "#加载自定义idf词典\n",
    "aly.set_idf_path('./data/idf.txt.big')\n",
    "#加载停用词典\n",
    "aly.set_stop_words('./data/stop_words.utf8')\n",
    "\n",
    "# 第一个参数：待提取关键词的文本\n",
    "# 第二个参数：返回关键词的数量，重要性从高到低排序\n",
    "# 第三个参数：是否同时返回每个关键词的权重\n",
    "# 第四个参数：词性过滤，为空表示不过滤，若提供则仅返回符合词性要求的关键词\n",
    "keywords = aly.extract_tags(content, topK=10, withWeight=True, allowPOS=())\n",
    "\n",
    "for item in keywords:\n",
    "    # 分别为关键词和相应的权重\n",
    "    print(item[0], item[1])"
   ]
  },
  {
   "cell_type": "code",
   "execution_count": 28,
   "metadata": {
    "collapsed": false
   },
   "outputs": [
    {
     "name": "stdout",
     "output_type": "stream",
     "text": [
      "涉及 1.0\n",
      "计算机 0.9618169519358478\n",
      "处理 0.8124660402732825\n",
      "理解 0.7885898958379202\n",
      "挑战 0.7833575495518058\n",
      "人机交互 0.7343470452632993\n",
      "语言学 0.727536034596871\n",
      "人类 0.6290562193534068\n",
      "人工智能 0.5809911385488661\n",
      "关注 0.577881611632419\n"
     ]
    }
   ],
   "source": [
    "import jieba.analyse as aly\n",
    "\n",
    "content = '''\n",
    "自然语言处理（NLP）是计算机科学，人工智能，语言学关注计算机和人类（自然）语言之间的相互作用的领域。\n",
    "因此，自然语言处理是与人机交互的领域有关的。在自然语言处理面临很多挑战，包括自然语言理解，因此，自然语言处理涉及人机交互的面积。\n",
    "在NLP诸多挑战涉及自然语言理解，即计算机源于人为或自然语言输入的意思，和其他涉及到自然语言生成。\n",
    "'''\n",
    "# 第一个参数：待提取关键词的文本\n",
    "# 第二个参数：返回关键词的数量，重要性从高到低排序\n",
    "# 第三个参数：是否同时返回每个关键词的权重\n",
    "# 第四个参数：词性过滤，为空表示过滤所有，与TF—IDF不一样！\n",
    "keywords = jieba.analyse.textrank(content, topK=10, withWeight=True, allowPOS=('ns', 'n', 'vn', 'v'))\n",
    "for item in keywords:\n",
    "    # 分别为关键词和相应的权重\n",
    "    print(item[0], item[1])"
   ]
  },
  {
   "cell_type": "code",
   "execution_count": null,
   "metadata": {
    "collapsed": true
   },
   "outputs": [],
   "source": [
    ""
   ]
  }
 ],
 "metadata": {
  "kernelspec": {
   "display_name": "Python [conda env:py3.6]",
   "language": "python",
   "name": "conda-env-py3.6-py"
  },
  "language_info": {
   "codemirror_mode": {
    "name": "ipython",
    "version": 3.0
   },
   "file_extension": ".py",
   "mimetype": "text/x-python",
   "name": "python",
   "nbconvert_exporter": "python",
   "pygments_lexer": "ipython3",
   "version": "3.6.1"
  }
 },
 "nbformat": 4,
 "nbformat_minor": 0
}